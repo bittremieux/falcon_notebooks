{
 "cells": [
  {
   "cell_type": "code",
   "execution_count": null,
   "metadata": {},
   "outputs": [],
   "source": [
    "import os\n",
    "\n",
    "import natsort\n",
    "import pandas as pd\n",
    "import pyteomics.mztab\n",
    "import tqdm\n",
    "\n",
    "from ms_io import ms_io"
   ]
  },
  {
   "cell_type": "code",
   "execution_count": null,
   "metadata": {},
   "outputs": [],
   "source": [
    "# Get spectrum IDs from MassIVE mzTab files.\n",
    "ids, sequences, charges = [], [], []\n",
    "mztab_dir = '../data/external/RMSV000000091.3'\n",
    "for filename in tqdm.tqdm(os.listdir(mztab_dir)):\n",
    "    if filename.lower().endswith('.mztab'):\n",
    "        mztab_contents = pyteomics.mztab.MzTab(os.path.join(mztab_dir,\n",
    "                                                            filename))\n",
    "        # Resolve run references.\n",
    "        runs = {}\n",
    "        for key, value in mztab_contents.metadata.items():\n",
    "            if 'ms_run' in key:\n",
    "                runs[int(key[7:-10])] = os.path.splitext(\n",
    "                    os.path.basename(value))[0]\n",
    "        # Get all PSMS.\n",
    "        for sequence, modifications, spectra_ref, charge in zip(\n",
    "                mztab_contents.spectrum_match_table['sequence'],\n",
    "                mztab_contents.spectrum_match_table['modifications'],\n",
    "                mztab_contents.spectrum_match_table['spectra_ref'],\n",
    "                mztab_contents.spectrum_match_table['charge']):\n",
    "            run_id = int(spectra_ref[7:spectra_ref.find(']')])\n",
    "            scan = int(spectra_ref[spectra_ref.rfind('=') + 1:])\n",
    "            usi = f'mzspec:PXD000561:{runs[run_id]}:scan:{scan}'\n",
    "            if modifications is None:\n",
    "                sequence_new = sequence\n",
    "            else:\n",
    "                mods = []\n",
    "                for modification in modifications.split(','):\n",
    "                    pos, mod = modification.split('-')\n",
    "                    mods.append((int(pos), mod))\n",
    "                sequence_new = list(sequence)\n",
    "                for i, (pos, mod) in enumerate(sorted(\n",
    "                        mods, key=lambda pm: pm[0])):\n",
    "                    sequence_new.insert(pos + i, f'[{mod}]')\n",
    "                sequence_new = ''.join(sequence_new)\n",
    "            ids.append(usi)\n",
    "            sequences.append(sequence_new)\n",
    "            charges.append(charge)\n",
    "psms = (pd.DataFrame({'identifier': ids, 'sequence': sequences,\n",
    "                      'charge': charges})\n",
    "        .drop_duplicates('identifier'))"
   ]
  },
  {
   "cell_type": "code",
   "execution_count": null,
   "metadata": {},
   "outputs": [],
   "source": [
    "# Get file and spectrum indexes (needed to parse MS-Cluster output).\n",
    "indexes = []\n",
    "with open('../data/processed/mscluster/mscluster_0_spec_list.txt', 'r') as f_in:\n",
    "    for file_i, filename in tqdm.tqdm(enumerate(f_in)):\n",
    "        for spec in ms_io.get_spectra(filename.strip()):\n",
    "            indexes.append((file_i, int(spec.identifier.rsplit(':', 1)[-1]),\n",
    "                            'mzspec:PXD000561:' + spec.identifier,\n",
    "                            spec.precursor_charge, spec.precursor_mz))\n",
    "spectra = pd.DataFrame(indexes, columns=['file_i', 'spectrum_i', 'identifier',\n",
    "                                         'precursor_charge', 'precursor_mz'])"
   ]
  },
  {
   "cell_type": "code",
   "execution_count": null,
   "metadata": {},
   "outputs": [],
   "source": [
    "spectra = (pd.merge(spectra, psms, 'left', 'identifier')\n",
    "           .sort_values('identifier', key=natsort.natsort_keygen())\n",
    "           .reset_index(drop=True))\n",
    "spectra = spectra[['identifier', 'precursor_charge', 'precursor_mz',\n",
    "                   'sequence', 'file_i', 'spectrum_i']]\n",
    "spectra.to_parquet('kim2014_ids.parquet')"
   ]
  }
 ],
 "metadata": {
  "kernelspec": {
   "display_name": "Python 3",
   "language": "python",
   "name": "python3"
  },
  "language_info": {
   "codemirror_mode": {
    "name": "ipython",
    "version": 3
   },
   "file_extension": ".py",
   "mimetype": "text/x-python",
   "name": "python",
   "nbconvert_exporter": "python",
   "pygments_lexer": "ipython3",
   "version": "3.8.2"
  }
 },
 "nbformat": 4,
 "nbformat_minor": 4
}
