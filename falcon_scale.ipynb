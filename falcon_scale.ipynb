{
 "cells": [
  {
   "cell_type": "code",
   "execution_count": null,
   "id": "c015a609",
   "metadata": {},
   "outputs": [],
   "source": [
    "import datetime\n",
    "\n",
    "import matplotlib.pyplot as plt\n",
    "import pandas as pd\n",
    "import seaborn as sns"
   ]
  },
  {
   "cell_type": "code",
   "execution_count": null,
   "id": "30691410",
   "metadata": {},
   "outputs": [],
   "source": [
    "# Plot styling.\n",
    "plt.style.use(['seaborn-white', 'seaborn-paper'])\n",
    "plt.rc('font', family='serif')\n",
    "sns.set_palette(['#9e0059', '#6da7de', '#ee266d', '#dee000', '#eb861e'])\n",
    "sns.set_context('paper', font_scale=1.3)    # Single-column figure."
   ]
  },
  {
   "cell_type": "code",
   "execution_count": null,
   "id": "330c6828",
   "metadata": {},
   "outputs": [],
   "source": [
    "scale = pd.read_csv('falcon_scale.csv')\n",
    "scale['memory'] = scale['memory'] / 1024 / 1024    # kB to GB\n",
    "scale['time'] = pd.to_numeric(pd.to_timedelta(scale['time'])) / 1e9 / 60"
   ]
  },
  {
   "cell_type": "code",
   "execution_count": null,
   "id": "7f5e59c8",
   "metadata": {},
   "outputs": [],
   "source": [
    "width = 7\n",
    "height = width / 1.618\n",
    "fig, ax = plt.subplots(figsize=(width, height))\n",
    "\n",
    "sns.regplot(x='num_spectra', y='time', data=scale, ax=ax)\n",
    "\n",
    "ax.set_xlim(0, ax.get_xlim()[1] + ax.get_xlim()[1] / 100)\n",
    "ax.set_ylim(0, ax.get_ylim()[1])\n",
    "\n",
    "ax.ticklabel_format(axis='x', style='sci', scilimits=(6, 6), useMathText=True)\n",
    "\n",
    "ax.set_xlabel('Number of MS/MS spectra')\n",
    "ax.set_ylabel('Runtime (min)')\n",
    "\n",
    "sns.despine(ax=ax)\n",
    "\n",
    "plt.savefig('scaling.pdf', dpi=300, bbox_inches='tight')\n",
    "plt.show()\n",
    "plt.close()"
   ]
  }
 ],
 "metadata": {
  "kernelspec": {
   "display_name": "Python 3",
   "language": "python",
   "name": "python3"
  },
  "language_info": {
   "codemirror_mode": {
    "name": "ipython",
    "version": 3
   },
   "file_extension": ".py",
   "mimetype": "text/x-python",
   "name": "python",
   "nbconvert_exporter": "python",
   "pygments_lexer": "ipython3",
   "version": "3.9.2"
  }
 },
 "nbformat": 4,
 "nbformat_minor": 5
}
