{
 "cells": [
  {
   "cell_type": "code",
   "execution_count": null,
   "id": "d60d92e5",
   "metadata": {},
   "outputs": [],
   "source": [
    "import joblib\n",
    "import numba as nb\n",
    "import pandas as pd\n",
    "import spectrum_utils.utils as suu"
   ]
  },
  {
   "cell_type": "code",
   "execution_count": null,
   "id": "fc44744e",
   "metadata": {},
   "outputs": [],
   "source": [
    "@nb.njit(parallel=True)\n",
    "def count_candidates(precursor_mzs, ppm_tol):\n",
    "    count = 0\n",
    "    for i in nb.prange(len(precursor_mzs)):\n",
    "        j = i + 1\n",
    "        while (j < len(precursor_mzs) and\n",
    "               suu.mass_diff(precursor_mzs[j], precursor_mzs[i], False) < ppm_tol):\n",
    "            count, j = count + 1, j + 1\n",
    "    return count"
   ]
  },
  {
   "cell_type": "code",
   "execution_count": null,
   "id": "e0e4bb3d",
   "metadata": {},
   "outputs": [],
   "source": [
    "spectra = pd.read_parquet('kim2014_spectra.parquet')"
   ]
  },
  {
   "cell_type": "code",
   "execution_count": null,
   "id": "74ab73bb",
   "metadata": {},
   "outputs": [],
   "source": [
    "num_brute_force, ppm_tol = 0, 20\n",
    "for charge, precursor_mzs in spectra.groupby('precursor_charge')['precursor_mz']:\n",
    "    precursor_mzs = precursor_mzs.sort_values().values\n",
    "    num_brute_force += count_candidates(precursor_mzs, ppm_tol)\n",
    "# Naive approach where each spectrum is compared to all its neighbors.\n",
    "num_brute_force *= 2"
   ]
  },
  {
   "cell_type": "code",
   "execution_count": null,
   "id": "5a236442",
   "metadata": {},
   "outputs": [],
   "source": [
    "num_falcon = (25664862 + 727350893 + 329854885 + 74245350 + 18032994 +\n",
    "              3565450 + 416811 + 50290 + 11026 + 3862 + 2463 + 1863 + 113 +\n",
    "              4 + 175)"
   ]
  },
  {
   "cell_type": "code",
   "execution_count": null,
   "id": "498c47af",
   "metadata": {},
   "outputs": [],
   "source": [
    "print(f'Number of spectra: {len(spectra):,d}')\n",
    "print(f'Number of brute-force spectrum pairs ({ppm_tol} ppm): {num_brute_force:,d}')\n",
    "print(f'Average number of brute-force comparisons per spectrum: '\n",
    "      f'{round(num_brute_force / len(spectra))}')\n",
    "print(f'Number of falcon spectrum pairs ({ppm_tol} ppm): {num_falcon:,d}')\n",
    "print(f'Average number of falcon comparisons per spectrum: '\n",
    "      f'{round(num_falcon / len(spectra))}')"
   ]
  }
 ],
 "metadata": {
  "kernelspec": {
   "display_name": "Python 3",
   "language": "python",
   "name": "python3"
  },
  "language_info": {
   "codemirror_mode": {
    "name": "ipython",
    "version": 3
   },
   "file_extension": ".py",
   "mimetype": "text/x-python",
   "name": "python",
   "nbconvert_exporter": "python",
   "pygments_lexer": "ipython3",
   "version": "3.9.2"
  }
 },
 "nbformat": 4,
 "nbformat_minor": 5
}
