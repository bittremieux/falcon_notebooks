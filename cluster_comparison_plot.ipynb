{
 "cells": [
  {
   "cell_type": "code",
   "execution_count": null,
   "id": "211cf881",
   "metadata": {},
   "outputs": [],
   "source": [
    "import joblib\n",
    "import matplotlib.pyplot as plt\n",
    "import matplotlib.ticker as mticker\n",
    "import numpy as np\n",
    "import pandas as pd\n",
    "import seaborn as sns\n",
    "from matplotlib.patches import Patch"
   ]
  },
  {
   "cell_type": "code",
   "execution_count": null,
   "id": "12753a90",
   "metadata": {},
   "outputs": [],
   "source": [
    "# Plot styling.\n",
    "plt.style.use(['seaborn-white', 'seaborn-paper'])\n",
    "plt.rc('font', family='serif')\n",
    "sns.set_palette(['#9e0059', '#6da7de', '#ee266d', '#dee000', '#eb861e'])\n",
    "sns.set_context('paper', font_scale=1.3)    # Single-column figure."
   ]
  },
  {
   "cell_type": "code",
   "execution_count": null,
   "id": "67cd2e42",
   "metadata": {},
   "outputs": [],
   "source": [
    "hyperparam = pd.read_csv('cluster_comparison_hyperparam.csv')\n",
    "cluster_sizes = joblib.load('cluster_comparison_size.joblib')\n",
    "max_peptide_clusters_grouped = pd.read_csv('cluster_comparison_size.csv')"
   ]
  },
  {
   "cell_type": "code",
   "execution_count": null,
   "id": "f5606657",
   "metadata": {},
   "outputs": [],
   "source": [
    "tools = ('falcon', 'MaRaCluster', 'MS-Cluster', 'msCRUSH', 'spectra-cluster')"
   ]
  },
  {
   "cell_type": "code",
   "execution_count": null,
   "id": "4577b775",
   "metadata": {},
   "outputs": [],
   "source": [
    "width = 7\n",
    "height = width / 1.618\n",
    "fig, axes = plt.subplots(2, 2, figsize=(width * 2, height * 2))\n",
    "axes = np.ravel(axes)\n",
    "\n",
    "# Number of clustered spectra and completeness.\n",
    "for tool in tools:\n",
    "    tool_performance = (hyperparam[(hyperparam['tool'] == tool) &\n",
    "                                   (hyperparam['min_cluster_size'] == 2)]\n",
    "                        .sort_values('prop_clustered_incorrect'))\n",
    "    axes[0].plot(tool_performance['prop_clustered_incorrect'],\n",
    "                 tool_performance['prop_clustered'], marker='o', label=tool)\n",
    "    axes[1].plot(tool_performance['prop_clustered_incorrect'],\n",
    "                 tool_performance['completeness'], marker='o', label=tool)\n",
    "\n",
    "axes[0].set_xlim(0, 0.05)\n",
    "axes[0].set_ylim(0, 1)\n",
    "axes[1].set_xlim(0, 0.05)\n",
    "axes[1].set_ylim(0.7, 1)\n",
    "\n",
    "axes[0].xaxis.set_major_formatter(mticker.PercentFormatter(1, 0))\n",
    "axes[0].yaxis.set_major_formatter(mticker.PercentFormatter(1, 0))\n",
    "axes[1].xaxis.set_major_formatter(mticker.PercentFormatter(1, 0))\n",
    "\n",
    "axes[0].set_xlabel('Incorrectly clustered spectra')\n",
    "axes[0].set_ylabel('Clustered spectra')\n",
    "axes[1].set_xlabel('Incorrectly clustered spectra')\n",
    "axes[1].set_ylabel('Completeness')\n",
    "\n",
    "axes[0].legend(loc='lower right', frameon=False)\n",
    "axes[1].legend(loc='lower right', frameon=False)\n",
    "\n",
    "# Cluster sizes.\n",
    "for i, tool in enumerate(tools):\n",
    "    sns.ecdfplot(cluster_sizes[tool][cluster_sizes[tool] > 1],\n",
    "                 stat='proportion', complementary=True, ax=axes[2],\n",
    "                 label=tool, zorder=len(tools) - i)\n",
    "    \n",
    "axes[2].set_xscale('log')\n",
    "axes[2].set_ylim(0., 1.01)\n",
    "\n",
    "axes[2].yaxis.set_major_formatter(mticker.PercentFormatter(1))\n",
    "\n",
    "axes[2].set_xlabel('Cluster size')\n",
    "axes[2].set_ylabel('Proportion of clustered spectra')\n",
    "\n",
    "axes[2].legend(loc='upper right', frameon=False)\n",
    "\n",
    "# Frequent peptide.\n",
    "max_peptide_clusters_grouped['num_clustered'] = (\n",
    "    max_peptide_clusters_grouped['num_correct'] +\n",
    "    max_peptide_clusters_grouped['num_unidentified'] +\n",
    "    max_peptide_clusters_grouped['num_incorrect'])\n",
    "sns.barplot(x='interval', y='num_clustered', hue='tool',\n",
    "            data=max_peptide_clusters_grouped, hue_order=tools,\n",
    "            edgecolor='black', ax=axes[3])\n",
    "axes[3].legend(loc='upper left', ncol=2, frameon=False)\n",
    "\n",
    "axes[3].set_xlim(-0.5, axes[3].get_xlim()[1])\n",
    "\n",
    "axes[3].yaxis.set_major_formatter(mticker.StrMethodFormatter('{x:,.0f}'))\n",
    "\n",
    "axes[3].set_xlabel('Cluster size')\n",
    "axes[3].set_ylabel('Clustered spectra')\n",
    "\n",
    "for i, (ax, c) in enumerate(zip(axes, 'ABCD')):\n",
    "    ax.annotate(c, xy=(-0.15, 1.1), xycoords='axes fraction',\n",
    "                fontsize='xx-large', weight='bold')\n",
    "\n",
    "for ax in axes:\n",
    "    sns.despine(ax=ax)\n",
    "    \n",
    "fig.tight_layout()\n",
    "\n",
    "plt.savefig('cluster_comparison.pdf', dpi=300, bbox_inches='tight')\n",
    "plt.show()\n",
    "plt.close()"
   ]
  }
 ],
 "metadata": {
  "kernelspec": {
   "display_name": "Python 3",
   "language": "python",
   "name": "python3"
  },
  "language_info": {
   "codemirror_mode": {
    "name": "ipython",
    "version": 3
   },
   "file_extension": ".py",
   "mimetype": "text/x-python",
   "name": "python",
   "nbconvert_exporter": "python",
   "pygments_lexer": "ipython3",
   "version": "3.9.2"
  }
 },
 "nbformat": 4,
 "nbformat_minor": 5
}
