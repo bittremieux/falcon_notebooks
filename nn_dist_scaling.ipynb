{
 "cells": [
  {
   "cell_type": "code",
   "execution_count": null,
   "metadata": {},
   "outputs": [],
   "source": [
    "import os\n",
    "import sys\n",
    "# Make sure all code is in the PATH.\n",
    "sys.path.append(os.path.normpath(os.path.join('../src')))"
   ]
  },
  {
   "cell_type": "code",
   "execution_count": null,
   "metadata": {},
   "outputs": [],
   "source": [
    "import joblib\n",
    "import matplotlib.pyplot as plt\n",
    "import numpy as np\n",
    "import pandas as pd\n",
    "import scipy.sparse as ss\n",
    "import seaborn as sns\n",
    "\n",
    "import config, falcon"
   ]
  },
  {
   "cell_type": "code",
   "execution_count": null,
   "metadata": {},
   "outputs": [],
   "source": [
    "# Plot styling.\n",
    "plt.style.use(['seaborn-white', 'seaborn-paper'])\n",
    "plt.rc('font', family='serif')\n",
    "sns.set_palette(['#6da7de', '#9e0059', '#dee000', '#d82222', '#5ea15d',\n",
    "                 '#943fa6', '#63c5b5', '#ff38ba', '#eb861e', '#ee266d'])\n",
    "sns.set_context('paper', font_scale=1.3)    # Single-column figure."
   ]
  },
  {
   "cell_type": "code",
   "execution_count": null,
   "metadata": {},
   "outputs": [],
   "source": [
    "if not os.path.exists('nn_dist_scaling'):\n",
    "    os.mkdir('nn_dist_scaling')\n",
    "\n",
    "config.charges = (2,)\n",
    "config.overwrite = False\n",
    "config.export_representatives = False\n",
    "config.pxd = 'PXD000561'\n",
    "config.peak_dir = os.path.abspath('../data/external/PXD000561')\n",
    "config.work_dir = os.path.abspath('./tmp')\n",
    "config.filenames = [os.path.join(config.peak_dir, filename)\n",
    "                    for filename in os.listdir(config.peak_dir)\n",
    "                    if filename.endswith('.mzML')]\n",
    "# Generate pairwise distance matrixes with different scaling methods.\n",
    "for scaling in ('rank', 'root', 'log', None):\n",
    "    if not os.path.isfile(f'./nn_dist_scaling/dist_2_{scaling}.npz'):\n",
    "        config.scaling = scaling\n",
    "        falcon.main()\n",
    "        os.rename('./tmp/nn/dist_2.npz',\n",
    "                  f'./nn_dist_scaling/dist_2_{scaling}.npz')\n",
    "        os.rename('./tmp/nn/metadata_2.parquet',\n",
    "                  f'./nn_dist_scaling/metadata_2_{scaling}.parquet')\n",
    "if os.path.exists('./tmp'):\n",
    "    os.rmdir('./tmp')"
   ]
  },
  {
   "cell_type": "code",
   "execution_count": null,
   "metadata": {},
   "outputs": [],
   "source": [
    "ids = pd.read_parquet('kim2014_ids.parquet')\n",
    "ids['sequence'] = ids['sequence'].str.replace('L', 'I')"
   ]
  },
  {
   "cell_type": "code",
   "execution_count": null,
   "metadata": {},
   "outputs": [],
   "source": [
    "dists = {scaling: ss.load_npz(f'./nn_dist_scaling/dist_2_{scaling}.npz')\n",
    "         for scaling in ('rank', 'root', 'log', None)}"
   ]
  },
  {
   "cell_type": "code",
   "execution_count": null,
   "metadata": {},
   "outputs": [],
   "source": [
    "width = 7\n",
    "height = width / 1.618\n",
    "fig, axes = plt.subplots(2, 2, figsize=(width * 2, height * 2))\n",
    "\n",
    "for ax, (scaling, pairwise_distances) in zip(axes.ravel(), dists.items()):\n",
    "    metadata = pd.merge(\n",
    "        pd.read_parquet(f'./nn_dist_scaling/metadata_2_{scaling}.parquet'),\n",
    "        ids[['identifier', 'sequence']], on='identifier')\n",
    "    \n",
    "    rows, columns, dist = ss.find(pairwise_distances)\n",
    "    sequences = metadata['sequence'].reset_index(drop=True)\n",
    "    same_label = (sequences.loc[rows].reset_index(drop=True) ==\n",
    "                  sequences.loc[columns].reset_index(drop=True))\n",
    "    \n",
    "    sns.kdeplot(dist[same_label], fill=True, ax=ax)\n",
    "    sns.kdeplot(dist[~same_label], fill=True, ax=ax)\n",
    "    \n",
    "    ax.set_xlabel('Cosine distance')\n",
    "    ax.set_title(f'scaling = {scaling}')\n",
    "    sns.despine(ax=ax)\n",
    "\n",
    "plt.tight_layout()\n",
    "\n",
    "plt.savefig('nn_dist_scaling.png', dpi=300, bbox_inches='tight')\n",
    "plt.show()\n",
    "plt.close()"
   ]
  }
 ],
 "metadata": {
  "kernelspec": {
   "display_name": "Python 3",
   "language": "python",
   "name": "python3"
  },
  "language_info": {
   "codemirror_mode": {
    "name": "ipython",
    "version": 3
   },
   "file_extension": ".py",
   "mimetype": "text/x-python",
   "name": "python",
   "nbconvert_exporter": "python",
   "pygments_lexer": "ipython3",
   "version": "3.8.2"
  }
 },
 "nbformat": 4,
 "nbformat_minor": 4
}
