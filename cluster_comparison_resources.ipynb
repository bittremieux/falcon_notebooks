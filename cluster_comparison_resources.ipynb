{
 "cells": [
  {
   "cell_type": "code",
   "execution_count": null,
   "id": "9511de2b",
   "metadata": {},
   "outputs": [],
   "source": [
    "import pandas as pd"
   ]
  },
  {
   "cell_type": "code",
   "execution_count": null,
   "id": "94ada552",
   "metadata": {},
   "outputs": [],
   "source": [
    "resources = pd.read_csv('cluster_comparison_resources.csv').fillna(0)\n",
    "resources['memory'] = resources['memory'] / 1024 / 1024    # kB to GB\n",
    "resources['time'] = pd.to_timedelta(resources['time']).astype(int)\n",
    "resources = resources.groupby('tool', sort=False).agg(['mean', 'std'])\n",
    "resources['time', 'mean'] = pd.to_timedelta(resources['time', 'mean'])\n",
    "resources['time', 'std'] = pd.to_timedelta(resources['time', 'std'])\n",
    "resources['memory', 'mean'] = resources['memory', 'mean'].apply(round)\n",
    "resources['memory', 'std'] = resources['memory', 'std'].apply(round)\n",
    "resources"
   ]
  }
 ],
 "metadata": {
  "kernelspec": {
   "display_name": "Python 3",
   "language": "python",
   "name": "python3"
  },
  "language_info": {
   "codemirror_mode": {
    "name": "ipython",
    "version": 3
   },
   "file_extension": ".py",
   "mimetype": "text/x-python",
   "name": "python",
   "nbconvert_exporter": "python",
   "pygments_lexer": "ipython3",
   "version": "3.9.2"
  }
 },
 "nbformat": 4,
 "nbformat_minor": 5
}
